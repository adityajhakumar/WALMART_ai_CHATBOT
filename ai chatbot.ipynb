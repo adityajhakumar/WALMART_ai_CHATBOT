{
  "nbformat": 4,
  "nbformat_minor": 0,
  "metadata": {
    "colab": {
      "provenance": [],
      "authorship_tag": "ABX9TyPRZtg5u1K+P9GCizDT/Fzf",
      "include_colab_link": true
    },
    "kernelspec": {
      "name": "python3",
      "display_name": "Python 3"
    },
    "language_info": {
      "name": "python"
    }
  },
  "cells": [
    {
      "cell_type": "markdown",
      "metadata": {
        "id": "view-in-github",
        "colab_type": "text"
      },
      "source": [
        "<a href=\"https://colab.research.google.com/github/adityajhakumar/WALMART_ai_CHATBOT/blob/main/ai%20chatbot.ipynb\" target=\"_parent\"><img src=\"https://colab.research.google.com/assets/colab-badge.svg\" alt=\"Open In Colab\"/></a>"
      ]
    },
    {
      "cell_type": "code",
      "execution_count": 1,
      "metadata": {
        "colab": {
          "base_uri": "https://localhost:8080/"
        },
        "id": "uolD7ZlaqArC",
        "outputId": "07a4826a-c0f0-43ac-e03d-d5814f2a9004"
      },
      "outputs": [
        {
          "output_type": "stream",
          "name": "stdout",
          "text": [
            "Requirement already satisfied: transformers in /usr/local/lib/python3.10/dist-packages (4.42.4)\n",
            "Requirement already satisfied: filelock in /usr/local/lib/python3.10/dist-packages (from transformers) (3.15.4)\n",
            "Requirement already satisfied: huggingface-hub<1.0,>=0.23.2 in /usr/local/lib/python3.10/dist-packages (from transformers) (0.23.5)\n",
            "Requirement already satisfied: numpy<2.0,>=1.17 in /usr/local/lib/python3.10/dist-packages (from transformers) (1.26.4)\n",
            "Requirement already satisfied: packaging>=20.0 in /usr/local/lib/python3.10/dist-packages (from transformers) (24.1)\n",
            "Requirement already satisfied: pyyaml>=5.1 in /usr/local/lib/python3.10/dist-packages (from transformers) (6.0.2)\n",
            "Requirement already satisfied: regex!=2019.12.17 in /usr/local/lib/python3.10/dist-packages (from transformers) (2024.5.15)\n",
            "Requirement already satisfied: requests in /usr/local/lib/python3.10/dist-packages (from transformers) (2.32.3)\n",
            "Requirement already satisfied: safetensors>=0.4.1 in /usr/local/lib/python3.10/dist-packages (from transformers) (0.4.4)\n",
            "Requirement already satisfied: tokenizers<0.20,>=0.19 in /usr/local/lib/python3.10/dist-packages (from transformers) (0.19.1)\n",
            "Requirement already satisfied: tqdm>=4.27 in /usr/local/lib/python3.10/dist-packages (from transformers) (4.66.5)\n",
            "Requirement already satisfied: fsspec>=2023.5.0 in /usr/local/lib/python3.10/dist-packages (from huggingface-hub<1.0,>=0.23.2->transformers) (2024.6.1)\n",
            "Requirement already satisfied: typing-extensions>=3.7.4.3 in /usr/local/lib/python3.10/dist-packages (from huggingface-hub<1.0,>=0.23.2->transformers) (4.12.2)\n",
            "Requirement already satisfied: charset-normalizer<4,>=2 in /usr/local/lib/python3.10/dist-packages (from requests->transformers) (3.3.2)\n",
            "Requirement already satisfied: idna<4,>=2.5 in /usr/local/lib/python3.10/dist-packages (from requests->transformers) (3.7)\n",
            "Requirement already satisfied: urllib3<3,>=1.21.1 in /usr/local/lib/python3.10/dist-packages (from requests->transformers) (2.0.7)\n",
            "Requirement already satisfied: certifi>=2017.4.17 in /usr/local/lib/python3.10/dist-packages (from requests->transformers) (2024.7.4)\n"
          ]
        }
      ],
      "source": [
        "!pip install transformers"
      ]
    },
    {
      "cell_type": "code",
      "source": [
        "!pip install gtts\n",
        "!pip install IPython\n"
      ],
      "metadata": {
        "colab": {
          "base_uri": "https://localhost:8080/"
        },
        "id": "bPiTTlPOqRLq",
        "outputId": "e3faf3ba-e56e-4fd8-ac00-8a0f8b16b423"
      },
      "execution_count": 27,
      "outputs": [
        {
          "output_type": "stream",
          "name": "stdout",
          "text": [
            "Requirement already satisfied: gtts in /usr/local/lib/python3.10/dist-packages (2.5.3)\n",
            "Requirement already satisfied: requests<3,>=2.27 in /usr/local/lib/python3.10/dist-packages (from gtts) (2.32.3)\n",
            "Requirement already satisfied: click<8.2,>=7.1 in /usr/local/lib/python3.10/dist-packages (from gtts) (8.1.7)\n",
            "Requirement already satisfied: charset-normalizer<4,>=2 in /usr/local/lib/python3.10/dist-packages (from requests<3,>=2.27->gtts) (3.3.2)\n",
            "Requirement already satisfied: idna<4,>=2.5 in /usr/local/lib/python3.10/dist-packages (from requests<3,>=2.27->gtts) (3.7)\n",
            "Requirement already satisfied: urllib3<3,>=1.21.1 in /usr/local/lib/python3.10/dist-packages (from requests<3,>=2.27->gtts) (2.0.7)\n",
            "Requirement already satisfied: certifi>=2017.4.17 in /usr/local/lib/python3.10/dist-packages (from requests<3,>=2.27->gtts) (2024.7.4)\n",
            "Requirement already satisfied: IPython in /usr/local/lib/python3.10/dist-packages (7.34.0)\n",
            "Requirement already satisfied: setuptools>=18.5 in /usr/local/lib/python3.10/dist-packages (from IPython) (71.0.4)\n",
            "Requirement already satisfied: jedi>=0.16 in /usr/local/lib/python3.10/dist-packages (from IPython) (0.19.1)\n",
            "Requirement already satisfied: decorator in /usr/local/lib/python3.10/dist-packages (from IPython) (4.4.2)\n",
            "Requirement already satisfied: pickleshare in /usr/local/lib/python3.10/dist-packages (from IPython) (0.7.5)\n",
            "Requirement already satisfied: traitlets>=4.2 in /usr/local/lib/python3.10/dist-packages (from IPython) (5.7.1)\n",
            "Requirement already satisfied: prompt-toolkit!=3.0.0,!=3.0.1,<3.1.0,>=2.0.0 in /usr/local/lib/python3.10/dist-packages (from IPython) (3.0.47)\n",
            "Requirement already satisfied: pygments in /usr/local/lib/python3.10/dist-packages (from IPython) (2.16.1)\n",
            "Requirement already satisfied: backcall in /usr/local/lib/python3.10/dist-packages (from IPython) (0.2.0)\n",
            "Requirement already satisfied: matplotlib-inline in /usr/local/lib/python3.10/dist-packages (from IPython) (0.1.7)\n",
            "Requirement already satisfied: pexpect>4.3 in /usr/local/lib/python3.10/dist-packages (from IPython) (4.9.0)\n",
            "Requirement already satisfied: parso<0.9.0,>=0.8.3 in /usr/local/lib/python3.10/dist-packages (from jedi>=0.16->IPython) (0.8.4)\n",
            "Requirement already satisfied: ptyprocess>=0.5 in /usr/local/lib/python3.10/dist-packages (from pexpect>4.3->IPython) (0.7.0)\n",
            "Requirement already satisfied: wcwidth in /usr/local/lib/python3.10/dist-packages (from prompt-toolkit!=3.0.0,!=3.0.1,<3.1.0,>=2.0.0->IPython) (0.2.13)\n"
          ]
        }
      ]
    },
    {
      "cell_type": "code",
      "source": [
        "import pandas as pd\n",
        "from transformers import GPT2Tokenizer, GPT2LMHeadModel\n",
        "import io\n",
        "import threading\n",
        "import time\n",
        "\n",
        "# Load the tokenizer and model\n",
        "tokenizer = GPT2Tokenizer.from_pretrained('gpt2-large')\n",
        "model = GPT2LMHeadModel.from_pretrained('gpt2-large', pad_token_id=tokenizer.eos_token_id)\n",
        "\n",
        "# Load Excel data\n",
        "food_recipes = pd.read_excel('/content/food_recipes_large.xlsx')\n",
        "supermarket_items = pd.read_excel('/content/supermarket_items_large.xlsx')\n",
        "\n",
        "# Clean column names by stripping any extra spaces\n",
        "food_recipes.columns = food_recipes.columns.str.strip()\n",
        "supermarket_items.columns = supermarket_items.columns.str.strip()\n",
        "\n",
        "# Initialize memory for shopping preferences\n",
        "shopping_preferences = {}\n",
        "\n",
        "def generate_response(prompt):\n",
        "    inputs = tokenizer.encode(prompt, return_tensors='pt')\n",
        "    outputs = model.generate(inputs, max_length=100, num_beams=5, no_repeat_ngram_size=2, early_stopping=True)\n",
        "    response = tokenizer.decode(outputs[0], skip_special_tokens=True)\n",
        "    return response\n",
        "\n",
        "def get_random_examples(df, num_examples=5):\n",
        "    return df.sample(n=num_examples)\n",
        "\n",
        "def get_supermarket_info(item_name):\n",
        "    item_info = supermarket_items[supermarket_items['Item Name'].str.contains(item_name, case=False, na=False)]\n",
        "    if not item_info.empty:\n",
        "        return item_info[['Item Name', 'Price', 'Brand']].to_dict(orient='records')\n",
        "    return None\n",
        "\n",
        "def remember_shopping_preference(item_name, category):\n",
        "    if category not in shopping_preferences:\n",
        "        shopping_preferences[category] = []\n",
        "    shopping_preferences[category].append(item_name)\n",
        "\n",
        "def handle_shopping_query(item_name):\n",
        "    supermarket_info = get_supermarket_info(item_name)\n",
        "    if supermarket_info:\n",
        "        response = f\"You can buy {item_name} at Walmart. Here are the details:\\n\"\n",
        "        for item in supermarket_info:\n",
        "            response += f\"{item['Item Name']} - Brand: {item['Brand']}, Price: ${item['Price']}\\n\"\n",
        "        remember_shopping_preference(item_name, 'Shopping')\n",
        "    else:\n",
        "        response = f\"Sorry, I couldn't find {item_name} in the supermarket database. Let me see if I can find something else for you.\"\n",
        "        response += generate_response(f\"Can you help me find {item_name}?\")\n",
        "    return response\n",
        "\n",
        "def initial_welcome():\n",
        "    food_examples = get_random_examples(food_recipes, 5)\n",
        "    supermarket_examples = get_random_examples(supermarket_items, 5)\n",
        "\n",
        "    food_examples_str = ', '.join(food_examples['Food Item Name'])\n",
        "    supermarket_examples_str = ', '.join(supermarket_examples['Item Name'])\n",
        "\n",
        "    response = (\n",
        "        \"Hello! I'm here to help you with your shopping. What type of items are you interested in today?\\n\\n\"\n",
        "        \"Here are some examples of food items you might be interested in:\\n\"\n",
        "        f\"{food_examples_str}\\n\\n\"\n",
        "        \"And here are some items available at the supermarket:\\n\"\n",
        "        f\"{supermarket_examples_str}\\n\"\n",
        "    )\n",
        "    return response\n",
        "\n",
        "def show_more_examples(df, num_examples=10):\n",
        "    return df.sample(n=num_examples)\n",
        "\n",
        "# Start conversation loop\n",
        "print(\"Chatbot: Hello! I'm here to help you with your shopping. What type of items are you interested in today?\")\n",
        "response = initial_welcome()\n",
        "print(\"Chatbot:\", response)\n",
        "\n",
        "while True:\n",
        "    print(\"Waiting for user input...\")\n",
        "    user_input = input(\"You: \")\n",
        "    print(f\"Received user input: {user_input}\")\n",
        "    if user_input.lower() in [\"exit\", \"quit\", \"bye\"]:\n",
        "        response = \"Goodbye! Have a great day!\"\n",
        "        print(f\"Chatbot: {response}\")\n",
        "        break\n",
        "\n",
        "    if \"show me more\" in user_input.lower():\n",
        "        category = \"food\" if \"food\" in user_input.lower() else \"supermarket\"\n",
        "        examples = show_more_examples(food_recipes if category == \"food\" else supermarket_items)\n",
        "        examples_str = ', '.join(examples[examples.columns[1]])\n",
        "        response = f\"Here are more examples for you:\\n{examples_str}\"\n",
        "    elif \"buy\" in user_input.lower() or \"walmart\" in user_input.lower():\n",
        "        item_name = user_input.lower().replace(\"i want to buy\", \"\").replace(\"from walmart\", \"\").strip()\n",
        "        response = handle_shopping_query(item_name)\n",
        "    else:\n",
        "        response = generate_response(user_input)\n",
        "\n",
        "    print(\"Chatbot:\", response)\n",
        "    time.sleep(2)  # Add a delay to reduce request frequency\n"
      ],
      "metadata": {
        "colab": {
          "base_uri": "https://localhost:8080/"
        },
        "id": "nN8suqVkvdxm",
        "outputId": "d4257657-884c-41d6-9dc4-8508dc1a20cc"
      },
      "execution_count": 30,
      "outputs": [
        {
          "output_type": "stream",
          "name": "stdout",
          "text": [
            "Chatbot: Hello! I'm here to help you with your shopping. What type of items are you interested in today?\n",
            "Chatbot: Hello! I'm here to help you with your shopping. What type of items are you interested in today?\n",
            "\n",
            "Here are some examples of food items you might be interested in:\n",
            "Chocolate Cake, Chicken Salad, Chicken Curry, Spaghetti Carbonara, Chicken Salad\n",
            "\n",
            "And here are some items available at the supermarket:\n",
            "Classic Black Dress, Whole Milk, Cooking Oil, Classic Black Dress, Chicken Wings\n",
            "\n",
            "Waiting for user input...\n",
            "You: Chicken Salad\n",
            "Received user input: Chicken Salad\n",
            "Chatbot: Chicken Salad\n",
            "\n",
            "1/2 cup shredded cheddar cheese, plus more for garnish (I used a mix of mozzarella and parmesan, but you can use whatever cheese you like)\n",
            "\n",
            "\n",
            "2 tablespoons chopped fresh parsley, or more if you'd like it a little spicier (optional) Instructions Preheat the oven to 400 degrees F. Spray a baking sheet with nonstick cooking spray and set aside. In a large bowl, whisk together the flour, baking powder\n",
            "Waiting for user input...\n",
            "You: write me a poem on food\n",
            "Received user input: write me a poem on food\n",
            "Chatbot: write me a poem on food and I'll send it to you,\" he said.\n",
            "\n",
            "\"I don't know if I'm going to be able to do it, but I will try.\"\n",
            "Waiting for user input...\n",
            "You: okay please try writing a poem \n",
            "Received user input: okay please try writing a poem \n",
            "Chatbot: okay please try writing a poem ㅇㄴ I don't know what you're trying to say, but I'm not going to listen to it.\n",
            "\n",
            "Anonymous 01/26/16 (Tue) 01:08:15 AM No. 399924 >>339923\n",
            ".\n",
            "\n",
            "\n",
            "I'm sorry, I didn't mean to make you feel bad. It's just that I've never been able to write a good poem in my life. I can't\n",
            "Waiting for user input...\n",
            "You: okay tell me about Walmart stores \n",
            "Received user input: okay tell me about Walmart stores \n",
            "Chatbot: Sorry, I couldn't find okay tell me about walmart stores in the supermarket database. Let me see if I can find something else for you.Can you help me find okay tell me about walmart stores?\n",
            "\n",
            "Walmart is one of the largest retailers in the United States. It is the world's largest retailer, with more than 1,000 stores across the U.S., Canada, Mexico, and Puerto Rico. Wal-Mart is also the second-largest retailer in Latin America and the third largest in Asia. The company is headquartered in Bentonville, Ark., and has stores in all 50 states, the District of Columbia\n",
            "Waiting for user input...\n",
            "You:  bye\n",
            "Received user input:  bye\n",
            "Chatbot:  bye.\n",
            "\n",
            "\"I don't know what's going to happen,\" he said. \"I'm just trying to do what I can to help the team win.\"\n",
            "Waiting for user input...\n",
            "You: exit\n",
            "Received user input: exit\n",
            "Chatbot: Goodbye! Have a great day!\n"
          ]
        }
      ]
    },
    {
      "cell_type": "code",
      "source": [],
      "metadata": {
        "id": "NWj7F7eWzvbX"
      },
      "execution_count": null,
      "outputs": []
    }
  ]
}